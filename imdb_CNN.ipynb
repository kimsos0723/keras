{
  "nbformat": 4,
  "nbformat_minor": 0,
  "metadata": {
    "kernelspec": {
      "display_name": "Python 3",
      "language": "python",
      "name": "python3"
    },
    "language_info": {
      "codemirror_mode": {
        "name": "ipython",
        "version": 3
      },
      "file_extension": ".py",
      "mimetype": "text/x-python",
      "name": "python",
      "nbconvert_exporter": "python",
      "pygments_lexer": "ipython3",
      "version": "3.7.3"
    },
    "colab": {
      "name": "imdb_CNN.ipynb",
      "version": "0.3.2",
      "provenance": []
    }
  },
  "cells": [
    {
      "cell_type": "markdown",
      "metadata": {
        "id": "HepuS0-A0gwp",
        "colab_type": "text"
      },
      "source": [
        "# Data Set\n",
        "## x : words index , y positive or negative opinion\n",
        "### num_words : Rank by frequency"
      ]
    },
    {
      "cell_type": "code",
      "metadata": {
        "id": "YTG3MylA0gwr",
        "colab_type": "code",
        "colab": {
          "base_uri": "https://localhost:8080/",
          "height": 34
        },
        "outputId": "802382ad-ddea-498a-affa-17cdcdc7f511"
      },
      "source": [
        "from keras.datasets import imdb\n",
        "(x_train, y_train), (x_test, y_test) = imdb.load_data(num_words=20000) "
      ],
      "execution_count": 2,
      "outputs": [
        {
          "output_type": "stream",
          "text": [
            "Using TensorFlow backend.\n"
          ],
          "name": "stderr"
        }
      ]
    },
    {
      "cell_type": "code",
      "metadata": {
        "id": "1RH-HomF0gw7",
        "colab_type": "code",
        "colab": {}
      },
      "source": [
        "x_val = x_train[20000:]\n",
        "y_val = y_train[20000:]\n",
        "\n",
        "x_train = x_train[:20000]\n",
        "y_train = y_train[:20000]"
      ],
      "execution_count": 0,
      "outputs": []
    },
    {
      "cell_type": "code",
      "metadata": {
        "id": "ukTGWoj20gxO",
        "colab_type": "code",
        "colab": {}
      },
      "source": [
        "from keras.preprocessing import sequence \n",
        "x_train = sequence.pad_sequences(x_train, maxlen=200)\n",
        "x_val = sequence.pad_sequences(x_val, maxlen=200)\n",
        "x_test = sequence.pad_sequences(x_test, maxlen=200)"
      ],
      "execution_count": 0,
      "outputs": []
    },
    {
      "cell_type": "code",
      "metadata": {
        "id": "1rFyMEGi0gxT",
        "colab_type": "code",
        "outputId": "7fe3696d-c070-462e-d6aa-4df58a36f11b",
        "colab": {
          "base_uri": "https://localhost:8080/",
          "height": 241
        }
      },
      "source": [
        "from keras.layers import Embedding, Dropout, Conv1D, GlobalMaxPooling1D, Dense\n",
        "from keras.models import Sequential\n",
        "model = Sequential()\n",
        "model.add(Embedding(20000, 128, input_length=200))\n",
        "model.add(Dropout(0.2))\n",
        "model.add(Conv1D(256,\n",
        "                 3,\n",
        "                 padding='valid',\n",
        "                 activation='relu',\n",
        "                 strides=1))\n",
        "model.add(GlobalMaxPooling1D())\n",
        "model.add(Dense(128, activation='relu'))\n",
        "model.add(Dropout(0.2))\n",
        "model.add(Dense(1, activation='sigmoid'))"
      ],
      "execution_count": 5,
      "outputs": [
        {
          "output_type": "stream",
          "text": [
            "WARNING: Logging before flag parsing goes to stderr.\n",
            "W0806 05:09:52.709798 139777916827520 deprecation_wrapper.py:119] From /usr/local/lib/python3.6/dist-packages/keras/backend/tensorflow_backend.py:74: The name tf.get_default_graph is deprecated. Please use tf.compat.v1.get_default_graph instead.\n",
            "\n",
            "W0806 05:09:52.748249 139777916827520 deprecation_wrapper.py:119] From /usr/local/lib/python3.6/dist-packages/keras/backend/tensorflow_backend.py:517: The name tf.placeholder is deprecated. Please use tf.compat.v1.placeholder instead.\n",
            "\n",
            "W0806 05:09:52.757869 139777916827520 deprecation_wrapper.py:119] From /usr/local/lib/python3.6/dist-packages/keras/backend/tensorflow_backend.py:4138: The name tf.random_uniform is deprecated. Please use tf.random.uniform instead.\n",
            "\n",
            "W0806 05:09:52.783534 139777916827520 deprecation_wrapper.py:119] From /usr/local/lib/python3.6/dist-packages/keras/backend/tensorflow_backend.py:133: The name tf.placeholder_with_default is deprecated. Please use tf.compat.v1.placeholder_with_default instead.\n",
            "\n",
            "W0806 05:09:52.797386 139777916827520 deprecation.py:506] From /usr/local/lib/python3.6/dist-packages/keras/backend/tensorflow_backend.py:3445: calling dropout (from tensorflow.python.ops.nn_ops) with keep_prob is deprecated and will be removed in a future version.\n",
            "Instructions for updating:\n",
            "Please use `rate` instead of `keep_prob`. Rate should be set to `rate = 1 - keep_prob`.\n"
          ],
          "name": "stderr"
        }
      ]
    },
    {
      "cell_type": "code",
      "metadata": {
        "id": "xiPBNTiG0gxY",
        "colab_type": "code",
        "outputId": "54c727d4-e5db-483e-b9db-ddc81b68a0db",
        "colab": {
          "base_uri": "https://localhost:8080/",
          "height": 156
        }
      },
      "source": [
        "model.compile(loss='binary_crossentropy', optimizer='adam', metrics=['accuracy'])\n"
      ],
      "execution_count": 6,
      "outputs": [
        {
          "output_type": "stream",
          "text": [
            "W0806 05:09:54.060127 139777916827520 deprecation_wrapper.py:119] From /usr/local/lib/python3.6/dist-packages/keras/optimizers.py:790: The name tf.train.Optimizer is deprecated. Please use tf.compat.v1.train.Optimizer instead.\n",
            "\n",
            "W0806 05:09:54.139326 139777916827520 deprecation_wrapper.py:119] From /usr/local/lib/python3.6/dist-packages/keras/backend/tensorflow_backend.py:3376: The name tf.log is deprecated. Please use tf.math.log instead.\n",
            "\n",
            "W0806 05:09:54.152149 139777916827520 deprecation.py:323] From /usr/local/lib/python3.6/dist-packages/tensorflow/python/ops/nn_impl.py:180: add_dispatch_support.<locals>.wrapper (from tensorflow.python.ops.array_ops) is deprecated and will be removed in a future version.\n",
            "Instructions for updating:\n",
            "Use tf.where in 2.0, which has the same broadcast rule as np.where\n"
          ],
          "name": "stderr"
        }
      ]
    },
    {
      "cell_type": "code",
      "metadata": {
        "id": "jvXEgamn0gxd",
        "colab_type": "code",
        "outputId": "962a6cf1-c613-46c4-a143-b988ca4940ed",
        "colab": {
          "base_uri": "https://localhost:8080/",
          "height": 904
        }
      },
      "source": [
        "hist = model.fit(x_train, y_train, epochs=25, batch_size=64, validation_data=(x_val, y_val))\n"
      ],
      "execution_count": 7,
      "outputs": [
        {
          "output_type": "stream",
          "text": [
            "Train on 20000 samples, validate on 5000 samples\n",
            "Epoch 1/25\n",
            "20000/20000 [==============================] - 148s 7ms/step - loss: 0.4658 - acc: 0.7581 - val_loss: 0.2995 - val_acc: 0.8730\n",
            "Epoch 2/25\n",
            "20000/20000 [==============================] - 147s 7ms/step - loss: 0.2148 - acc: 0.9137 - val_loss: 0.2594 - val_acc: 0.8924\n",
            "Epoch 3/25\n",
            "20000/20000 [==============================] - 147s 7ms/step - loss: 0.0831 - acc: 0.9738 - val_loss: 0.2968 - val_acc: 0.8944\n",
            "Epoch 4/25\n",
            "20000/20000 [==============================] - 146s 7ms/step - loss: 0.0207 - acc: 0.9952 - val_loss: 0.3639 - val_acc: 0.8862\n",
            "Epoch 5/25\n",
            "20000/20000 [==============================] - 148s 7ms/step - loss: 0.0056 - acc: 0.9995 - val_loss: 0.4215 - val_acc: 0.8886\n",
            "Epoch 6/25\n",
            "20000/20000 [==============================] - 147s 7ms/step - loss: 0.0019 - acc: 0.9999 - val_loss: 0.4299 - val_acc: 0.8936\n",
            "Epoch 7/25\n",
            "20000/20000 [==============================] - 147s 7ms/step - loss: 7.8404e-04 - acc: 1.0000 - val_loss: 0.4659 - val_acc: 0.8884\n",
            "Epoch 8/25\n",
            "20000/20000 [==============================] - 147s 7ms/step - loss: 5.1040e-04 - acc: 1.0000 - val_loss: 0.4778 - val_acc: 0.8952\n",
            "Epoch 9/25\n",
            "20000/20000 [==============================] - 148s 7ms/step - loss: 3.0820e-04 - acc: 1.0000 - val_loss: 0.4933 - val_acc: 0.8942\n",
            "Epoch 10/25\n",
            "20000/20000 [==============================] - 148s 7ms/step - loss: 2.0861e-04 - acc: 1.0000 - val_loss: 0.5110 - val_acc: 0.8918\n",
            "Epoch 11/25\n",
            "20000/20000 [==============================] - 148s 7ms/step - loss: 1.5459e-04 - acc: 1.0000 - val_loss: 0.5235 - val_acc: 0.8936\n",
            "Epoch 12/25\n",
            "20000/20000 [==============================] - 148s 7ms/step - loss: 4.5105e-04 - acc: 1.0000 - val_loss: 0.5488 - val_acc: 0.8912\n",
            "Epoch 13/25\n",
            "20000/20000 [==============================] - 149s 7ms/step - loss: 1.8912e-04 - acc: 1.0000 - val_loss: 0.5649 - val_acc: 0.8924\n",
            "Epoch 14/25\n",
            "20000/20000 [==============================] - 149s 7ms/step - loss: 1.0802e-04 - acc: 1.0000 - val_loss: 0.5956 - val_acc: 0.8894\n",
            "Epoch 15/25\n",
            "20000/20000 [==============================] - 150s 7ms/step - loss: 8.0532e-05 - acc: 1.0000 - val_loss: 0.6055 - val_acc: 0.8902\n",
            "Epoch 16/25\n",
            "20000/20000 [==============================] - 149s 7ms/step - loss: 6.9238e-05 - acc: 1.0000 - val_loss: 0.6070 - val_acc: 0.8902\n",
            "Epoch 17/25\n",
            "20000/20000 [==============================] - 149s 7ms/step - loss: 0.0176 - acc: 0.9941 - val_loss: 0.4886 - val_acc: 0.8742\n",
            "Epoch 18/25\n",
            "20000/20000 [==============================] - 150s 7ms/step - loss: 0.0434 - acc: 0.9846 - val_loss: 0.6645 - val_acc: 0.8556\n",
            "Epoch 19/25\n",
            "20000/20000 [==============================] - 148s 7ms/step - loss: 0.0081 - acc: 0.9972 - val_loss: 0.5789 - val_acc: 0.8864\n",
            "Epoch 20/25\n",
            "20000/20000 [==============================] - 150s 7ms/step - loss: 0.0021 - acc: 0.9992 - val_loss: 0.5830 - val_acc: 0.8864\n",
            "Epoch 21/25\n",
            "20000/20000 [==============================] - 148s 7ms/step - loss: 9.1201e-04 - acc: 0.9997 - val_loss: 0.6358 - val_acc: 0.8838\n",
            "Epoch 22/25\n",
            "20000/20000 [==============================] - 147s 7ms/step - loss: 3.3686e-04 - acc: 1.0000 - val_loss: 0.6589 - val_acc: 0.8836\n",
            "Epoch 23/25\n",
            "20000/20000 [==============================] - 147s 7ms/step - loss: 2.1110e-04 - acc: 1.0000 - val_loss: 0.6797 - val_acc: 0.8842\n",
            "Epoch 24/25\n",
            "20000/20000 [==============================] - 147s 7ms/step - loss: 7.1318e-04 - acc: 0.9997 - val_loss: 0.7406 - val_acc: 0.8822\n",
            "Epoch 25/25\n",
            "20000/20000 [==============================] - 147s 7ms/step - loss: 4.3757e-04 - acc: 0.9999 - val_loss: 0.7707 - val_acc: 0.8792\n"
          ],
          "name": "stdout"
        }
      ]
    },
    {
      "cell_type": "code",
      "metadata": {
        "id": "t_CmWmbk0gxi",
        "colab_type": "code",
        "outputId": "86184bd8-f2cd-4305-aabf-d1b81fc808e8",
        "colab": {
          "base_uri": "https://localhost:8080/",
          "height": 334
        }
      },
      "source": [
        "%matplotlib inline\n",
        "import matplotlib.pyplot as plt\n",
        "\n",
        "fig, loss_ax = plt.subplots()\n",
        "\n",
        "acc_ax = loss_ax.twinx()\n",
        "\n",
        "loss_ax.plot(hist.history['loss'], 'y', label='train loss')\n",
        "loss_ax.plot(hist.history['val_loss'], 'r', label='val loss')\n",
        "loss_ax.set_ylim([-0.2, 1.2])\n",
        "\n",
        "acc_ax.plot(hist.history['acc'], 'b', label='train acc')\n",
        "acc_ax.plot(hist.history['val_acc'], 'g', label='val acc')\n",
        "acc_ax.set_ylim([-0.2, 1.2])\n",
        "\n",
        "loss_ax.set_xlabel('epoch')\n",
        "loss_ax.set_ylabel('loss')\n",
        "acc_ax.set_ylabel('accuray')\n",
        "\n",
        "loss_ax.legend(loc='upper left')\n",
        "acc_ax.legend(loc='lower left')\n",
        "\n",
        "plt.show()\n",
        "\n",
        "# 6. 모델 평가하기\n",
        "loss_and_metrics = model.evaluate(x_test, y_test, batch_size=64)\n",
        "print('## evaluation loss and_metrics ##')\n",
        "print(loss_and_metrics)"
      ],
      "execution_count": 8,
      "outputs": [
        {
          "output_type": "display_data",
          "data": {
            "image/png": "[encoded data removed]",
            "text/plain": [
              "<Figure size 432x288 with 2 Axes>"
            ]
          },
          "metadata": {
            "tags": []
          }
        },
        {
          "output_type": "stream",
          "text": [
            "25000/25000 [==============================] - 40s 2ms/step\n",
            "## evaluation loss and_metrics ##\n",
            "[0.8195754267311096, 0.8708799999618531]\n"
          ],
          "name": "stdout"
        }
      ]
    },
    {
      "cell_type": "code",
      "metadata": {
        "id": "jeSsowyE0gxn",
        "colab_type": "code",
        "outputId": "06aa35fb-f805-446b-b271-61cc6fcf3f09",
        "colab": {
          "base_uri": "https://localhost:8080/",
          "height": 391
        }
      },
      "source": [
        "print(model.summary())"
      ],
      "execution_count": 9,
      "outputs": [
        {
          "output_type": "stream",
          "text": [
            "_________________________________________________________________\n",
            "Layer (type)                 Output Shape              Param #   \n",
            "=================================================================\n",
            "embedding_1 (Embedding)      (None, 200, 128)          2560000   \n",
            "_________________________________________________________________\n",
            "dropout_1 (Dropout)          (None, 200, 128)          0         \n",
            "_________________________________________________________________\n",
            "conv1d_1 (Conv1D)            (None, 198, 256)          98560     \n",
            "_________________________________________________________________\n",
            "global_max_pooling1d_1 (Glob (None, 256)               0         \n",
            "_________________________________________________________________\n",
            "dense_1 (Dense)              (None, 128)               32896     \n",
            "_________________________________________________________________\n",
            "dropout_2 (Dropout)          (None, 128)               0         \n",
            "_________________________________________________________________\n",
            "dense_2 (Dense)              (None, 1)                 129       \n",
            "=================================================================\n",
            "Total params: 2,691,585\n",
            "Trainable params: 2,691,585\n",
            "Non-trainable params: 0\n",
            "_________________________________________________________________\n",
            "None\n"
          ],
          "name": "stdout"
        }
      ]
    },
    {
      "cell_type": "code",
      "metadata": {
        "id": "jhrLt25S0gxs",
        "colab_type": "code",
        "colab": {}
      },
      "source": [
        ""
      ],
      "execution_count": 0,
      "outputs": []
    }
  ]
}