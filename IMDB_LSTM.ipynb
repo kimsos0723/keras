{
  "nbformat": 4,
  "nbformat_minor": 0,
  "metadata": {
    "kernelspec": {
      "display_name": "Python 3",
      "language": "python",
      "name": "python3"
    },
    "language_info": {
      "codemirror_mode": {
        "name": "ipython",
        "version": 3
      },
      "file_extension": ".py",
      "mimetype": "text/x-python",
      "name": "python",
      "nbconvert_exporter": "python",
      "pygments_lexer": "ipython3",
      "version": "3.7.3"
    },
    "colab": {
      "name": "IMDB_LSTM.ipynb",
      "version": "0.3.2",
      "provenance": [],
      "collapsed_sections": []
    }
  },
  "cells": [
    {
      "cell_type": "markdown",
      "metadata": {
        "id": "VAT92l8GD1jL",
        "colab_type": "text"
      },
      "source": [
        "# Data Set\n",
        "## x = words index , y positive or negative \n",
        "### num_words : Rank by frequency"
      ]
    },
    {
      "cell_type": "code",
      "metadata": {
        "id": "buhuxJMbEVsY",
        "colab_type": "code",
        "outputId": "da06395b-f950-4441-d9e1-7fd3da585d7a",
        "colab": {
          "base_uri": "https://localhost:8080/",
          "height": 295
        }
      },
      "source": [
        "!pip install numpy==1.16.1\n"
      ],
      "execution_count": 10,
      "outputs": [
        {
          "output_type": "stream",
          "text": [
            "Collecting numpy==1.16.1\n",
            "\u001b[?25l  Downloading https://files.pythonhosted.org/packages/f5/bf/4981bcbee43934f0adb8f764a1e70ab0ee5a448f6505bd04a87a2fda2a8b/numpy-1.16.1-cp36-cp36m-manylinux1_x86_64.whl (17.3MB)\n",
            "\u001b[K     |████████████████████████████████| 17.3MB 2.8MB/s \n",
            "\u001b[31mERROR: datascience 0.10.6 has requirement folium==0.2.1, but you'll have folium 0.8.3 which is incompatible.\u001b[0m\n",
            "\u001b[31mERROR: albumentations 0.1.12 has requirement imgaug<0.2.7,>=0.2.5, but you'll have imgaug 0.2.9 which is incompatible.\u001b[0m\n",
            "\u001b[?25hInstalling collected packages: numpy\n",
            "  Found existing installation: numpy 1.16.4\n",
            "    Uninstalling numpy-1.16.4:\n",
            "      Successfully uninstalled numpy-1.16.4\n",
            "Successfully installed numpy-1.16.1\n"
          ],
          "name": "stdout"
        },
        {
          "output_type": "display_data",
          "data": {
            "application/vnd.colab-display-data+json": {
              "pip_warning": {
                "packages": [
                  "numpy"
                ]
              }
            }
          },
          "metadata": {
            "tags": []
          }
        }
      ]
    },
    {
      "cell_type": "code",
      "metadata": {
        "id": "eHOdJOzcD1jN",
        "colab_type": "code",
        "outputId": "2aae7fe0-1b9e-4cf1-abec-1ff9ab0fda26",
        "colab": {
          "base_uri": "https://localhost:8080/",
          "height": 71
        }
      },
      "source": [
        "from keras.datasets import imdb\n",
        "\n",
        "(x_train, y_train), (x_test, y_test) = imdb.load_data(num_words=20000) \n",
        "print (x_test[0], y_test[0])"
      ],
      "execution_count": 1,
      "outputs": [
        {
          "output_type": "stream",
          "text": [
            "Using TensorFlow backend.\n"
          ],
          "name": "stderr"
        },
        {
          "output_type": "stream",
          "text": [
            "[1, 591, 202, 14, 31, 6, 717, 10, 10, 18142, 10698, 5, 4, 360, 7, 4, 177, 5760, 394, 354, 4, 123, 9, 1035, 1035, 1035, 10, 10, 13, 92, 124, 89, 488, 7944, 100, 28, 1668, 14, 31, 23, 27, 7479, 29, 220, 468, 8, 124, 14, 286, 170, 8, 157, 46, 5, 27, 239, 16, 179, 15387, 38, 32, 25, 7944, 451, 202, 14, 6, 717] 0\n"
          ],
          "name": "stdout"
        }
      ]
    },
    {
      "cell_type": "markdown",
      "metadata": {
        "id": "TGilAb1mD1jS",
        "colab_type": "text"
      },
      "source": [
        "### VAL : Out of Rank , Verification Set"
      ]
    },
    {
      "cell_type": "code",
      "metadata": {
        "id": "up_c9KrbD1jT",
        "colab_type": "code",
        "colab": {}
      },
      "source": [
        "x_val = x_train[20000:]\n",
        "y_val = y_train[20000:]\n",
        "\n",
        "x_train = x_train[:20000]\n",
        "y_train = y_train[:20000]"
      ],
      "execution_count": 0,
      "outputs": []
    },
    {
      "cell_type": "code",
      "metadata": {
        "id": "1mxVIQ0ZD1jX",
        "colab_type": "code",
        "colab": {}
      },
      "source": [
        "from keras.preprocessing import sequence \n",
        "\n",
        "x_train = sequence.pad_sequences(x_train, maxlen = 200)\n",
        "x_val = sequence.pad_sequences(x_val, maxlen = 200)\n",
        "x_test = sequence.pad_sequences(x_test, maxlen = 200)"
      ],
      "execution_count": 0,
      "outputs": []
    },
    {
      "cell_type": "code",
      "metadata": {
        "id": "4q---E2YD1ja",
        "colab_type": "code",
        "outputId": "43fba7e0-4ee0-481e-9b5b-ea42b5184b15",
        "colab": {
          "base_uri": "https://localhost:8080/",
          "height": 156
        }
      },
      "source": [
        "from keras.models import Sequential\n",
        "from keras.layers import Dense, Embedding, LSTM\n",
        "from keras.layers import Flatten\n",
        "model = Sequential()\n",
        "model.add(Embedding(20000, 128))\n",
        "model.add(LSTM(128))\n",
        "model.add(Dense(1, activation='sigmoid'))"
      ],
      "execution_count": 4,
      "outputs": [
        {
          "output_type": "stream",
          "text": [
            "WARNING: Logging before flag parsing goes to stderr.\n",
            "W0806 05:08:07.704753 139825271363456 deprecation_wrapper.py:119] From /usr/local/lib/python3.6/dist-packages/keras/backend/tensorflow_backend.py:74: The name tf.get_default_graph is deprecated. Please use tf.compat.v1.get_default_graph instead.\n",
            "\n",
            "W0806 05:08:07.734726 139825271363456 deprecation_wrapper.py:119] From /usr/local/lib/python3.6/dist-packages/keras/backend/tensorflow_backend.py:517: The name tf.placeholder is deprecated. Please use tf.compat.v1.placeholder instead.\n",
            "\n",
            "W0806 05:08:07.738015 139825271363456 deprecation_wrapper.py:119] From /usr/local/lib/python3.6/dist-packages/keras/backend/tensorflow_backend.py:4138: The name tf.random_uniform is deprecated. Please use tf.random.uniform instead.\n",
            "\n"
          ],
          "name": "stderr"
        }
      ]
    },
    {
      "cell_type": "code",
      "metadata": {
        "id": "M2k_A8Z3D1jg",
        "colab_type": "code",
        "outputId": "4c01da59-1b1f-4598-e777-76276d7a698f",
        "colab": {
          "base_uri": "https://localhost:8080/",
          "height": 156
        }
      },
      "source": [
        "from keras import optimizers\n",
        "model.compile(loss=\"binary_crossentropy\", optimizer='adam', metrics=['accuracy'])"
      ],
      "execution_count": 5,
      "outputs": [
        {
          "output_type": "stream",
          "text": [
            "W0806 05:08:09.253996 139825271363456 deprecation_wrapper.py:119] From /usr/local/lib/python3.6/dist-packages/keras/optimizers.py:790: The name tf.train.Optimizer is deprecated. Please use tf.compat.v1.train.Optimizer instead.\n",
            "\n",
            "W0806 05:08:09.298130 139825271363456 deprecation_wrapper.py:119] From /usr/local/lib/python3.6/dist-packages/keras/backend/tensorflow_backend.py:3376: The name tf.log is deprecated. Please use tf.math.log instead.\n",
            "\n",
            "W0806 05:08:09.305499 139825271363456 deprecation.py:323] From /usr/local/lib/python3.6/dist-packages/tensorflow/python/ops/nn_impl.py:180: add_dispatch_support.<locals>.wrapper (from tensorflow.python.ops.array_ops) is deprecated and will be removed in a future version.\n",
            "Instructions for updating:\n",
            "Use tf.where in 2.0, which has the same broadcast rule as np.where\n"
          ],
          "name": "stderr"
        }
      ]
    },
    {
      "cell_type": "code",
      "metadata": {
        "id": "N29xI1diD1jj",
        "colab_type": "code",
        "outputId": "04b79774-e655-4e87-cd29-17d920c204de",
        "colab": {
          "base_uri": "https://localhost:8080/",
          "height": 938
        }
      },
      "source": [
        "hist = model.fit(x_train, y_train, epochs=25, batch_size=64, validation_data=(x_val, y_val))"
      ],
      "execution_count": 6,
      "outputs": [
        {
          "output_type": "stream",
          "text": [
            "W0806 05:08:12.820183 139825271363456 deprecation_wrapper.py:119] From /usr/local/lib/python3.6/dist-packages/keras/backend/tensorflow_backend.py:986: The name tf.assign_add is deprecated. Please use tf.compat.v1.assign_add instead.\n",
            "\n"
          ],
          "name": "stderr"
        },
        {
          "output_type": "stream",
          "text": [
            "Train on 20000 samples, validate on 5000 samples\n",
            "Epoch 1/25\n",
            "20000/20000 [==============================] - 217s 11ms/step - loss: 0.4289 - acc: 0.7980 - val_loss: 0.4179 - val_acc: 0.8144\n",
            "Epoch 2/25\n",
            "20000/20000 [==============================] - 310s 16ms/step - loss: 0.2313 - acc: 0.9121 - val_loss: 0.3924 - val_acc: 0.8576\n",
            "Epoch 3/25\n",
            "20000/20000 [==============================] - 307s 15ms/step - loss: 0.1376 - acc: 0.9493 - val_loss: 0.3781 - val_acc: 0.8502\n",
            "Epoch 4/25\n",
            "20000/20000 [==============================] - 304s 15ms/step - loss: 0.0887 - acc: 0.9705 - val_loss: 0.4659 - val_acc: 0.8628\n",
            "Epoch 5/25\n",
            "20000/20000 [==============================] - 305s 15ms/step - loss: 0.0685 - acc: 0.9775 - val_loss: 0.5443 - val_acc: 0.8338\n",
            "Epoch 6/25\n",
            "20000/20000 [==============================] - 310s 15ms/step - loss: 0.0501 - acc: 0.9834 - val_loss: 0.5635 - val_acc: 0.8402\n",
            "Epoch 7/25\n",
            "20000/20000 [==============================] - 312s 16ms/step - loss: 0.0443 - acc: 0.9861 - val_loss: 0.6064 - val_acc: 0.8570\n",
            "Epoch 8/25\n",
            "20000/20000 [==============================] - 317s 16ms/step - loss: 0.0338 - acc: 0.9895 - val_loss: 0.6352 - val_acc: 0.8520\n",
            "Epoch 9/25\n",
            "20000/20000 [==============================] - 318s 16ms/step - loss: 0.0305 - acc: 0.9905 - val_loss: 0.8476 - val_acc: 0.8542\n",
            "Epoch 10/25\n",
            "20000/20000 [==============================] - 314s 16ms/step - loss: 0.0177 - acc: 0.9956 - val_loss: 0.7269 - val_acc: 0.8434\n",
            "Epoch 11/25\n",
            "20000/20000 [==============================] - 307s 15ms/step - loss: 0.0234 - acc: 0.9929 - val_loss: 0.6693 - val_acc: 0.8372\n",
            "Epoch 12/25\n",
            "20000/20000 [==============================] - 307s 15ms/step - loss: 0.0112 - acc: 0.9965 - val_loss: 0.9060 - val_acc: 0.8546\n",
            "Epoch 13/25\n",
            "20000/20000 [==============================] - 263s 13ms/step - loss: 0.0296 - acc: 0.9902 - val_loss: 0.7474 - val_acc: 0.8582\n",
            "Epoch 14/25\n",
            "20000/20000 [==============================] - 149s 7ms/step - loss: 0.0355 - acc: 0.9891 - val_loss: 0.7271 - val_acc: 0.8474\n",
            "Epoch 15/25\n",
            "20000/20000 [==============================] - 150s 7ms/step - loss: 0.0094 - acc: 0.9970 - val_loss: 0.9840 - val_acc: 0.8354\n",
            "Epoch 16/25\n",
            "20000/20000 [==============================] - 150s 7ms/step - loss: 0.0144 - acc: 0.9955 - val_loss: 0.8012 - val_acc: 0.8506\n",
            "Epoch 17/25\n",
            "20000/20000 [==============================] - 150s 7ms/step - loss: 0.0047 - acc: 0.9990 - val_loss: 0.9117 - val_acc: 0.8564\n",
            "Epoch 18/25\n",
            "20000/20000 [==============================] - 150s 7ms/step - loss: 8.4758e-04 - acc: 0.9999 - val_loss: 0.9847 - val_acc: 0.8558\n",
            "Epoch 19/25\n",
            "20000/20000 [==============================] - 150s 8ms/step - loss: 1.6675e-04 - acc: 1.0000 - val_loss: 1.0519 - val_acc: 0.8582\n",
            "Epoch 20/25\n",
            "20000/20000 [==============================] - 151s 8ms/step - loss: 9.0390e-05 - acc: 1.0000 - val_loss: 1.1051 - val_acc: 0.8572\n",
            "Epoch 21/25\n",
            "20000/20000 [==============================] - 151s 8ms/step - loss: 5.9794e-05 - acc: 1.0000 - val_loss: 1.1465 - val_acc: 0.8574\n",
            "Epoch 22/25\n",
            "20000/20000 [==============================] - 151s 8ms/step - loss: 4.2579e-05 - acc: 1.0000 - val_loss: 1.1806 - val_acc: 0.8572\n",
            "Epoch 23/25\n",
            "20000/20000 [==============================] - 152s 8ms/step - loss: 3.2088e-05 - acc: 1.0000 - val_loss: 1.2058 - val_acc: 0.8570\n",
            "Epoch 24/25\n",
            "20000/20000 [==============================] - 151s 8ms/step - loss: 2.4444e-05 - acc: 1.0000 - val_loss: 1.2323 - val_acc: 0.8564\n",
            "Epoch 25/25\n",
            "20000/20000 [==============================] - 151s 8ms/step - loss: 1.9008e-05 - acc: 1.0000 - val_loss: 1.2614 - val_acc: 0.8560\n"
          ],
          "name": "stdout"
        }
      ]
    },
    {
      "cell_type": "code",
      "metadata": {
        "id": "m6fEbO7bD1jn",
        "colab_type": "code",
        "colab": {
          "base_uri": "https://localhost:8080/",
          "height": 334
        },
        "outputId": "8807d66f-849a-4627-ed5f-c365296a1dba"
      },
      "source": [
        "%matplotlib inline\n",
        "import matplotlib.pyplot as plt\n",
        "\n",
        "fig, loss_ax = plt.subplots()\n",
        "\n",
        "acc_ax = loss_ax.twinx()\n",
        "\n",
        "loss_ax.plot(hist.history['loss'], 'y', label='train loss')\n",
        "loss_ax.plot(hist.history['val_loss'], 'r', label='val loss')\n",
        "loss_ax.set_ylim([-0.2, 1.2])\n",
        "\n",
        "acc_ax.plot(hist.history['acc'], 'b', label='train acc')\n",
        "acc_ax.plot(hist.history['val_acc'], 'g', label='val acc')\n",
        "acc_ax.set_ylim([-0.2, 1.2])\n",
        "\n",
        "loss_ax.set_xlabel('epoch')\n",
        "loss_ax.set_ylabel('loss')\n",
        "acc_ax.set_ylabel('accuray')\n",
        "\n",
        "loss_ax.legend(loc='upper left')\n",
        "acc_ax.legend(loc='lower left')\n",
        "\n",
        "plt.show()\n",
        "\n",
        "loss_and_metrics = model.evaluate(x_test, y_test, batch_size=64)\n",
        "print('## evaluation loss and_metrics ##')\n",
        "print(loss_and_metrics)"
      ],
      "execution_count": 7,
      "outputs": [
        {
          "output_type": "display_data",
          "data": {
            "image/png": "[encoded data removed]",
            "text/plain": [
              "<Figure size 432x288 with 2 Axes>"
            ]
          },
          "metadata": {
            "tags": []
          }
        },
        {
          "output_type": "stream",
          "text": [
            "25000/25000 [==============================] - 40s 2ms/step\n",
            "## evaluation loss and_metrics ##\n",
            "[1.3228600700759887, 0.85176]\n"
          ],
          "name": "stdout"
        }
      ]
    },
    {
      "cell_type": "code",
      "metadata": {
        "id": "WzljXQn1D1jq",
        "colab_type": "code",
        "colab": {
          "base_uri": "https://localhost:8080/",
          "height": 255
        },
        "outputId": "396b81be-2373-4ec8-de3f-52e60e7f7be1"
      },
      "source": [
        "print(model.summary())"
      ],
      "execution_count": 8,
      "outputs": [
        {
          "output_type": "stream",
          "text": [
            "_________________________________________________________________\n",
            "Layer (type)                 Output Shape              Param #   \n",
            "=================================================================\n",
            "embedding_1 (Embedding)      (None, None, 128)         2560000   \n",
            "_________________________________________________________________\n",
            "lstm_1 (LSTM)                (None, 128)               131584    \n",
            "_________________________________________________________________\n",
            "dense_1 (Dense)              (None, 1)                 129       \n",
            "=================================================================\n",
            "Total params: 2,691,713\n",
            "Trainable params: 2,691,713\n",
            "Non-trainable params: 0\n",
            "_________________________________________________________________\n",
            "None\n"
          ],
          "name": "stdout"
        }
      ]
    },
    {
      "cell_type": "code",
      "metadata": {
        "id": "gthIoj8DD1jt",
        "colab_type": "code",
        "colab": {}
      },
      "source": [
        ""
      ],
      "execution_count": 0,
      "outputs": []
    }
  ]
}