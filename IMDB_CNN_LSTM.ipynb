{
  "nbformat": 4,
  "nbformat_minor": 0,
  "metadata": {
    "kernelspec": {
      "display_name": "Python 3",
      "language": "python",
      "name": "python3"
    },
    "language_info": {
      "codemirror_mode": {
        "name": "ipython",
        "version": 3
      },
      "file_extension": ".py",
      "mimetype": "text/x-python",
      "name": "python",
      "nbconvert_exporter": "python",
      "pygments_lexer": "ipython3",
      "version": "3.7.3"
    },
    "colab": {
      "name": "IMDB_CNN_LSTM.ipynb",
      "version": "0.3.2",
      "provenance": []
    }
  },
  "cells": [
    {
      "cell_type": "markdown",
      "metadata": {
        "id": "WpXFV6xetMrT",
        "colab_type": "text"
      },
      "source": [
        "# Data Set\n",
        "## x = words index , y positive or negative opinion\n",
        "### num_words : Rank by frequency"
      ]
    },
    {
      "cell_type": "code",
      "metadata": {
        "id": "zZE4DvmKtMrV",
        "colab_type": "code",
        "colab": {
          "base_uri": "https://localhost:8080/",
          "height": 34
        },
        "outputId": "ed6d5a96-0557-445c-dc59-8aaf3b38ef25"
      },
      "source": [
        "from keras.datasets import imdb\n",
        "(x_train, y_train), (x_test, y_test) = imdb.load_data(num_words=20000) "
      ],
      "execution_count": 1,
      "outputs": [
        {
          "output_type": "stream",
          "text": [
            "Using TensorFlow backend.\n"
          ],
          "name": "stderr"
        }
      ]
    },
    {
      "cell_type": "code",
      "metadata": {
        "id": "ZpzMnW43tMrb",
        "colab_type": "code",
        "colab": {}
      },
      "source": [
        "x_val = x_train[20000:]\n",
        "y_val = y_train[20000:]\n",
        "\n",
        "x_train = x_train[:20000]\n",
        "y_train = y_train[:20000]"
      ],
      "execution_count": 0,
      "outputs": []
    },
    {
      "cell_type": "code",
      "metadata": {
        "id": "0LJBc4cStMrf",
        "colab_type": "code",
        "colab": {}
      },
      "source": [
        "from keras.preprocessing import sequence\n",
        "x_train = sequence.pad_sequences(x_train, maxlen=200)\n",
        "x_val = sequence.pad_sequences(x_val, maxlen=200)\n",
        "x_test = sequence.pad_sequences(x_test, maxlen=200)"
      ],
      "execution_count": 0,
      "outputs": []
    },
    {
      "cell_type": "code",
      "metadata": {
        "id": "QcLx9dKQtMrj",
        "colab_type": "code",
        "colab": {
          "base_uri": "https://localhost:8080/",
          "height": 275
        },
        "outputId": "b99b2fa0-8d9b-4247-f865-cb206eca34ef"
      },
      "source": [
        "from keras.models import Sequential\n",
        "from keras.layers import Embedding, Dropout, Conv1D, MaxPooling1D, LSTM, Dense\n",
        "model = Sequential() \n",
        "model.add(Embedding(20000, 128, input_length=200))\n",
        "model.add(Dropout(0.2))\n",
        "model.add(Conv1D(256,\n",
        "                 3,\n",
        "                 padding='valid',\n",
        "                 activation='relu',\n",
        "                 strides=1))\n",
        "model.add(MaxPooling1D(pool_size=4))\n",
        "model.add(LSTM(128))\n",
        "model.add(Dense(1, activation='sigmoid'))"
      ],
      "execution_count": 5,
      "outputs": [
        {
          "output_type": "stream",
          "text": [
            "WARNING: Logging before flag parsing goes to stderr.\n",
            "W0806 06:54:35.432771 139694965000064 deprecation_wrapper.py:119] From /usr/local/lib/python3.6/dist-packages/keras/backend/tensorflow_backend.py:74: The name tf.get_default_graph is deprecated. Please use tf.compat.v1.get_default_graph instead.\n",
            "\n",
            "W0806 06:54:35.458236 139694965000064 deprecation_wrapper.py:119] From /usr/local/lib/python3.6/dist-packages/keras/backend/tensorflow_backend.py:517: The name tf.placeholder is deprecated. Please use tf.compat.v1.placeholder instead.\n",
            "\n",
            "W0806 06:54:35.461762 139694965000064 deprecation_wrapper.py:119] From /usr/local/lib/python3.6/dist-packages/keras/backend/tensorflow_backend.py:4138: The name tf.random_uniform is deprecated. Please use tf.random.uniform instead.\n",
            "\n",
            "W0806 06:54:35.479527 139694965000064 deprecation_wrapper.py:119] From /usr/local/lib/python3.6/dist-packages/keras/backend/tensorflow_backend.py:133: The name tf.placeholder_with_default is deprecated. Please use tf.compat.v1.placeholder_with_default instead.\n",
            "\n",
            "W0806 06:54:35.490113 139694965000064 deprecation.py:506] From /usr/local/lib/python3.6/dist-packages/keras/backend/tensorflow_backend.py:3445: calling dropout (from tensorflow.python.ops.nn_ops) with keep_prob is deprecated and will be removed in a future version.\n",
            "Instructions for updating:\n",
            "Please use `rate` instead of `keep_prob`. Rate should be set to `rate = 1 - keep_prob`.\n",
            "W0806 06:54:35.528026 139694965000064 deprecation_wrapper.py:119] From /usr/local/lib/python3.6/dist-packages/keras/backend/tensorflow_backend.py:3976: The name tf.nn.max_pool is deprecated. Please use tf.nn.max_pool2d instead.\n",
            "\n"
          ],
          "name": "stderr"
        }
      ]
    },
    {
      "cell_type": "code",
      "metadata": {
        "id": "91Ld06x7tSMR",
        "colab_type": "code",
        "colab": {
          "base_uri": "https://localhost:8080/",
          "height": 904
        },
        "outputId": "e2e671ad-63d9-4070-c969-9ef8ed40e560"
      },
      "source": [
        "hist = model.fit(x_train, y_train, epochs=25, batch_size=64, validation_data=(x_val, y_val))"
      ],
      "execution_count": 9,
      "outputs": [
        {
          "output_type": "stream",
          "text": [
            "Train on 20000 samples, validate on 5000 samples\n",
            "Epoch 1/25\n",
            "20000/20000 [==============================] - 122s 6ms/step - loss: 0.3673 - acc: 0.8366 - val_loss: 0.2990 - val_acc: 0.8742\n",
            "Epoch 2/25\n",
            "20000/20000 [==============================] - 120s 6ms/step - loss: 0.1777 - acc: 0.9338 - val_loss: 0.3364 - val_acc: 0.8776\n",
            "Epoch 3/25\n",
            "20000/20000 [==============================] - 120s 6ms/step - loss: 0.0902 - acc: 0.9704 - val_loss: 0.4196 - val_acc: 0.8478\n",
            "Epoch 4/25\n",
            "20000/20000 [==============================] - 121s 6ms/step - loss: 0.0551 - acc: 0.9819 - val_loss: 0.4492 - val_acc: 0.8710\n",
            "Epoch 5/25\n",
            "20000/20000 [==============================] - 121s 6ms/step - loss: 0.0281 - acc: 0.9912 - val_loss: 0.5637 - val_acc: 0.8616\n",
            "Epoch 6/25\n",
            "20000/20000 [==============================] - 120s 6ms/step - loss: 0.0219 - acc: 0.9929 - val_loss: 0.5937 - val_acc: 0.8560\n",
            "Epoch 7/25\n",
            "20000/20000 [==============================] - 120s 6ms/step - loss: 0.0195 - acc: 0.9945 - val_loss: 0.6125 - val_acc: 0.8598\n",
            "Epoch 8/25\n",
            "20000/20000 [==============================] - 120s 6ms/step - loss: 0.0165 - acc: 0.9942 - val_loss: 0.8359 - val_acc: 0.8458\n",
            "Epoch 9/25\n",
            "20000/20000 [==============================] - 120s 6ms/step - loss: 0.0162 - acc: 0.9947 - val_loss: 0.6441 - val_acc: 0.8538\n",
            "Epoch 10/25\n",
            "20000/20000 [==============================] - 120s 6ms/step - loss: 0.0090 - acc: 0.9970 - val_loss: 0.7200 - val_acc: 0.8568\n",
            "Epoch 11/25\n",
            "20000/20000 [==============================] - 120s 6ms/step - loss: 0.0116 - acc: 0.9959 - val_loss: 0.8279 - val_acc: 0.8586\n",
            "Epoch 12/25\n",
            "20000/20000 [==============================] - 120s 6ms/step - loss: 0.0101 - acc: 0.9968 - val_loss: 0.7429 - val_acc: 0.8542\n",
            "Epoch 13/25\n",
            "20000/20000 [==============================] - 121s 6ms/step - loss: 0.0099 - acc: 0.9967 - val_loss: 0.7986 - val_acc: 0.8624\n",
            "Epoch 14/25\n",
            "20000/20000 [==============================] - 121s 6ms/step - loss: 0.0055 - acc: 0.9981 - val_loss: 0.7591 - val_acc: 0.8470\n",
            "Epoch 15/25\n",
            "20000/20000 [==============================] - 121s 6ms/step - loss: 0.0031 - acc: 0.9990 - val_loss: 0.9194 - val_acc: 0.8538\n",
            "Epoch 16/25\n",
            "20000/20000 [==============================] - 121s 6ms/step - loss: 0.0069 - acc: 0.9978 - val_loss: 0.8664 - val_acc: 0.8602\n",
            "Epoch 17/25\n",
            "20000/20000 [==============================] - 121s 6ms/step - loss: 0.0091 - acc: 0.9970 - val_loss: 0.9524 - val_acc: 0.8302\n",
            "Epoch 18/25\n",
            "20000/20000 [==============================] - 122s 6ms/step - loss: 0.0083 - acc: 0.9970 - val_loss: 0.8351 - val_acc: 0.8586\n",
            "Epoch 19/25\n",
            "20000/20000 [==============================] - 122s 6ms/step - loss: 0.0059 - acc: 0.9981 - val_loss: 0.9031 - val_acc: 0.8544\n",
            "Epoch 20/25\n",
            "20000/20000 [==============================] - 123s 6ms/step - loss: 0.0061 - acc: 0.9981 - val_loss: 0.8610 - val_acc: 0.8542\n",
            "Epoch 21/25\n",
            "20000/20000 [==============================] - 122s 6ms/step - loss: 0.0053 - acc: 0.9982 - val_loss: 0.8113 - val_acc: 0.8486\n",
            "Epoch 22/25\n",
            "20000/20000 [==============================] - 121s 6ms/step - loss: 0.0010 - acc: 0.9997 - val_loss: 0.9449 - val_acc: 0.8560\n",
            "Epoch 23/25\n",
            "20000/20000 [==============================] - 122s 6ms/step - loss: 5.9662e-04 - acc: 0.9999 - val_loss: 1.0160 - val_acc: 0.8548\n",
            "Epoch 24/25\n",
            "20000/20000 [==============================] - 121s 6ms/step - loss: 9.7206e-05 - acc: 1.0000 - val_loss: 1.1008 - val_acc: 0.8576\n",
            "Epoch 25/25\n",
            "20000/20000 [==============================] - 121s 6ms/step - loss: 3.4508e-05 - acc: 1.0000 - val_loss: 1.1428 - val_acc: 0.8582\n"
          ],
          "name": "stdout"
        }
      ]
    },
    {
      "cell_type": "code",
      "metadata": {
        "id": "VAJ7gXiftdL2",
        "colab_type": "code",
        "colab": {
          "base_uri": "https://localhost:8080/",
          "height": 334
        },
        "outputId": "39ec7c95-4ecf-4730-ba51-1194dd5a139c"
      },
      "source": [
        "\n",
        "%matplotlib inline\n",
        "import matplotlib.pyplot as plt\n",
        "\n",
        "fig, loss_ax = plt.subplots()\n",
        "\n",
        "acc_ax = loss_ax.twinx()\n",
        "\n",
        "loss_ax.plot(hist.history['loss'], 'y', label='train loss')\n",
        "loss_ax.plot(hist.history['val_loss'], 'r', label='val loss')\n",
        "loss_ax.set_ylim([-0.2, 1.2])\n",
        "\n",
        "acc_ax.plot(hist.history['acc'], 'b', label='train acc')\n",
        "acc_ax.plot(hist.history['val_acc'], 'g', label='val acc')\n",
        "acc_ax.set_ylim([-0.2, 1.2])\n",
        "\n",
        "loss_ax.set_xlabel('epoch')\n",
        "loss_ax.set_ylabel('loss')\n",
        "acc_ax.set_ylabel('accuray')\n",
        "\n",
        "loss_ax.legend(loc='upper left')\n",
        "acc_ax.legend(loc='lower left')\n",
        "\n",
        "plt.show()\n",
        "\n",
        "loss_and_metrics = model.evaluate(x_test, y_test, batch_size=64)\n",
        "print('## evaluation loss and_metrics ##')\n",
        "print(loss_and_metrics)"
      ],
      "execution_count": 10,
      "outputs": [
        {
          "output_type": "display_data",
          "data": {
            "image/png": "[encoded data removed]",
            "text/plain": [
              "<Figure size 432x288 with 2 Axes>"
            ]
          },
          "metadata": {
            "tags": []
          }
        },
        {
          "output_type": "stream",
          "text": [
            "25000/25000 [==============================] - 33s 1ms/step\n",
            "## evaluation loss and_metrics ##\n",
            "[1.2913941606140136, 0.83956]\n"
          ],
          "name": "stdout"
        }
      ]
    },
    {
      "cell_type": "code",
      "metadata": {
        "id": "6jgh90_ILd00",
        "colab_type": "code",
        "colab": {
          "base_uri": "https://localhost:8080/",
          "height": 357
        },
        "outputId": "43da33c1-4b1b-4d2f-aaa1-8399da811bf9"
      },
      "source": [
        "print(model.summary())"
      ],
      "execution_count": 11,
      "outputs": [
        {
          "output_type": "stream",
          "text": [
            "_________________________________________________________________\n",
            "Layer (type)                 Output Shape              Param #   \n",
            "=================================================================\n",
            "embedding_1 (Embedding)      (None, 200, 128)          2560000   \n",
            "_________________________________________________________________\n",
            "dropout_1 (Dropout)          (None, 200, 128)          0         \n",
            "_________________________________________________________________\n",
            "conv1d_1 (Conv1D)            (None, 198, 256)          98560     \n",
            "_________________________________________________________________\n",
            "max_pooling1d_1 (MaxPooling1 (None, 49, 256)           0         \n",
            "_________________________________________________________________\n",
            "lstm_1 (LSTM)                (None, 128)               197120    \n",
            "_________________________________________________________________\n",
            "dense_1 (Dense)              (None, 1)                 129       \n",
            "=================================================================\n",
            "Total params: 2,855,809\n",
            "Trainable params: 2,855,809\n",
            "Non-trainable params: 0\n",
            "_________________________________________________________________\n",
            "None\n"
          ],
          "name": "stdout"
        }
      ]
    },
    {
      "cell_type": "code",
      "metadata": {
        "id": "qv9R_y9ELi4I",
        "colab_type": "code",
        "colab": {}
      },
      "source": [
        ""
      ],
      "execution_count": 0,
      "outputs": []
    }
  ]
}